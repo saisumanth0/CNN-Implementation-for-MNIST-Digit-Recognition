{
  "nbformat": 4,
  "nbformat_minor": 0,
  "metadata": {
    "colab": {
      "provenance": []
    },
    "kernelspec": {
      "name": "python3",
      "display_name": "Python 3"
    },
    "language_info": {
      "name": "python"
    }
  },
  "cells": [
    {
      "cell_type": "markdown",
      "source": [
        "# Importing numpy, pandas, sklearn, matplotlib, tensorflow"
      ],
      "metadata": {
        "id": "IyVgmBFNqpXE"
      }
    },
    {
      "cell_type": "code",
      "execution_count": 86,
      "metadata": {
        "id": "s-x8NqA2hZ-U"
      },
      "outputs": [],
      "source": [
        "import numpy as np\n",
        "import pandas as pd\n",
        "from sklearn.model_selection import train_test_split, KFold\n",
        "from sklearn.metrics import confusion_matrix, accuracy_score\n",
        "import matplotlib.pyplot as plt\n",
        "from tensorflow.keras.models import Sequential\n",
        "from tensorflow.keras.layers import Conv2D, MaxPooling2D, Flatten, Dense"
      ]
    },
    {
      "cell_type": "markdown",
      "source": [
        "# Step 1: Load the MNIST dataset"
      ],
      "metadata": {
        "id": "u7f8DDZzqGqQ"
      }
    },
    {
      "cell_type": "code",
      "source": [
        "\n",
        "def load_mnist_from_csv():\n",
        "    url = \"https://archive.ics.uci.edu/ml/machine-learning-databases/optdigits/optdigits.tra\"\n",
        "    # Read the CSV file into a pandas DataFrame\n",
        "    df = pd.read_csv(url, header=None)\n",
        "    # Extract features (pixel values) and labels from the DataFrame\n",
        "    X = df.iloc[:, :-1].values\n",
        "    y = df.iloc[:, -1].values\n",
        "    return X, y"
      ],
      "metadata": {
        "id": "n4JvbQwEhb04"
      },
      "execution_count": 87,
      "outputs": []
    },
    {
      "cell_type": "markdown",
      "source": [
        "# Step 2: Preprocess the data"
      ],
      "metadata": {
        "id": "cVER9giYqLtW"
      }
    },
    {
      "cell_type": "code",
      "source": [
        "\n",
        "def preprocess_mnist(X, y):\n",
        "    # Normalize pixel values\n",
        "    X = X / 16.0  # Pixel values range from 0 to 16\n",
        "    # Reshape images to 8x8 (as the original dataset contains flattened 8x8 images)\n",
        "    X = X.reshape(-1, 8, 8, 1)\n",
        "    return X, y"
      ],
      "metadata": {
        "id": "lvo9SL2Ihbyt"
      },
      "execution_count": 88,
      "outputs": []
    },
    {
      "cell_type": "markdown",
      "source": [
        "# Load the dataset"
      ],
      "metadata": {
        "id": "LSCaaZFoqN-F"
      }
    },
    {
      "cell_type": "code",
      "source": [
        "\n",
        "X, y = load_mnist_from_csv()"
      ],
      "metadata": {
        "id": "dxP5ENq2hbwf"
      },
      "execution_count": 89,
      "outputs": []
    },
    {
      "cell_type": "markdown",
      "source": [
        "# Preprocess the data"
      ],
      "metadata": {
        "id": "Za6jBUzoqPrc"
      }
    },
    {
      "cell_type": "code",
      "source": [
        "\n",
        "X, y = preprocess_mnist(X, y)"
      ],
      "metadata": {
        "id": "-ZSWrI2EhbuF"
      },
      "execution_count": 90,
      "outputs": []
    },
    {
      "cell_type": "markdown",
      "source": [
        "# K-Fold Cross Validation"
      ],
      "metadata": {
        "id": "xhQiUBEsqSM2"
      }
    },
    {
      "cell_type": "code",
      "source": [
        "\n",
        "kf = KFold(n_splits=5, shuffle=True, random_state=42)"
      ],
      "metadata": {
        "id": "1-UE-AM_lReS"
      },
      "execution_count": 91,
      "outputs": []
    },
    {
      "cell_type": "code",
      "source": [],
      "metadata": {
        "id": "Gr6bxKHBrDiE"
      },
      "execution_count": null,
      "outputs": []
    },
    {
      "cell_type": "code",
      "source": [],
      "metadata": {
        "id": "gzJXKdBUrDBj"
      },
      "execution_count": null,
      "outputs": []
    },
    {
      "cell_type": "markdown",
      "source": [
        "# Lists to store evaluation results"
      ],
      "metadata": {
        "id": "du1S0WtGqUUv"
      }
    },
    {
      "cell_type": "code",
      "source": [
        "\n",
        "accuracy_scores = []\n",
        "conf_matrices = []"
      ],
      "metadata": {
        "id": "0Bzzgdu7lRKS"
      },
      "execution_count": 92,
      "outputs": []
    },
    {
      "cell_type": "markdown",
      "source": [
        "# Iterate over K-Fold splits"
      ],
      "metadata": {
        "id": "ATTa-BxhqWhF"
      }
    },
    {
      "cell_type": "code",
      "source": [
        "\n",
        "for train_index, test_index in kf.split(X):\n",
        "    X_train, X_test = X[train_index], X[test_index]\n",
        "    y_train, y_test = y[train_index], y[test_index]\n"
      ],
      "metadata": {
        "id": "rWNCwR2ThbrK"
      },
      "execution_count": 93,
      "outputs": []
    },
    {
      "cell_type": "markdown",
      "source": [
        "# Define the CNN architecture"
      ],
      "metadata": {
        "id": "txKJ9j0aqYGo"
      }
    },
    {
      "cell_type": "code",
      "source": [
        "\n",
        "model = Sequential([\n",
        "    # Convolutional Layer 1\n",
        "    Conv2D(filters=32, kernel_size=(3, 3), activation='relu', input_shape=(8, 8, 1), padding='same'),\n",
        "    # Max Pooling Layer 1\n",
        "    MaxPooling2D(pool_size=(2, 2)),\n",
        "    # Convolutional Layer 2\n",
        "    Conv2D(filters=64, kernel_size=(3, 3), activation='relu', padding='same'),\n",
        "    # Max Pooling Layer 2\n",
        "    MaxPooling2D(pool_size=(2, 2)),\n",
        "    # Convolutional Layer 3\n",
        "    Conv2D(filters=128, kernel_size=(3, 3), activation='relu', padding='same'),\n",
        "    # Flatten layer\n",
        "    Flatten(),\n",
        "    # Fully connected layer\n",
        "    Dense(units=128, activation='relu'),\n",
        "    # Output layer\n",
        "    Dense(units=10, activation='softmax')\n",
        "])"
      ],
      "metadata": {
        "id": "KtcFRDlZiD-U"
      },
      "execution_count": 94,
      "outputs": []
    },
    {
      "cell_type": "markdown",
      "source": [
        "# Compile the model"
      ],
      "metadata": {
        "id": "vb0NeA9aqZ47"
      }
    },
    {
      "cell_type": "code",
      "source": [
        "\n",
        "model.compile(optimizer='adam', loss='sparse_categorical_crossentropy', metrics=['accuracy'])\n"
      ],
      "metadata": {
        "id": "qPMuUi3SmXUo"
      },
      "execution_count": 95,
      "outputs": []
    },
    {
      "cell_type": "code",
      "source": [],
      "metadata": {
        "id": "75nCUCFBrI1W"
      },
      "execution_count": null,
      "outputs": []
    },
    {
      "cell_type": "code",
      "source": [],
      "metadata": {
        "id": "e3tHJjrtrIhz"
      },
      "execution_count": null,
      "outputs": []
    },
    {
      "cell_type": "code",
      "source": [],
      "metadata": {
        "id": "2DYJLN2mrIUi"
      },
      "execution_count": null,
      "outputs": []
    },
    {
      "cell_type": "code",
      "source": [],
      "metadata": {
        "id": "3OjV6aVxrIRV"
      },
      "execution_count": null,
      "outputs": []
    },
    {
      "cell_type": "markdown",
      "source": [
        "# Train the model"
      ],
      "metadata": {
        "id": "2-SJgcqBqbxd"
      }
    },
    {
      "cell_type": "code",
      "source": [
        "\n",
        "history = model.fit(X_train, y_train, epochs=10, batch_size=32, validation_data=(X_test, y_test), verbose=1)\n"
      ],
      "metadata": {
        "colab": {
          "base_uri": "https://localhost:8080/",
          "height": 0
        },
        "id": "DOW3c-QMhbim",
        "outputId": "c1d115ca-14eb-473e-8e68-79c1419ff428"
      },
      "execution_count": 96,
      "outputs": [
        {
          "output_type": "stream",
          "name": "stdout",
          "text": [
            "Epoch 1/10\n",
            "96/96 [==============================] - 2s 13ms/step - loss: 1.0923 - accuracy: 0.6692 - val_loss: 0.2635 - val_accuracy: 0.9346\n",
            "Epoch 2/10\n",
            "96/96 [==============================] - 1s 11ms/step - loss: 0.1983 - accuracy: 0.9415 - val_loss: 0.1396 - val_accuracy: 0.9568\n",
            "Epoch 3/10\n",
            "96/96 [==============================] - 1s 11ms/step - loss: 0.1309 - accuracy: 0.9614 - val_loss: 0.0783 - val_accuracy: 0.9751\n",
            "Epoch 4/10\n",
            "96/96 [==============================] - 1s 11ms/step - loss: 0.0912 - accuracy: 0.9706 - val_loss: 0.0790 - val_accuracy: 0.9738\n",
            "Epoch 5/10\n",
            "96/96 [==============================] - 1s 11ms/step - loss: 0.0782 - accuracy: 0.9774 - val_loss: 0.0935 - val_accuracy: 0.9647\n",
            "Epoch 6/10\n",
            "96/96 [==============================] - 1s 11ms/step - loss: 0.0647 - accuracy: 0.9791 - val_loss: 0.0743 - val_accuracy: 0.9738\n",
            "Epoch 7/10\n",
            "96/96 [==============================] - 2s 16ms/step - loss: 0.0518 - accuracy: 0.9833 - val_loss: 0.0486 - val_accuracy: 0.9817\n",
            "Epoch 8/10\n",
            "96/96 [==============================] - 2s 16ms/step - loss: 0.0404 - accuracy: 0.9866 - val_loss: 0.0392 - val_accuracy: 0.9895\n",
            "Epoch 9/10\n",
            "96/96 [==============================] - 1s 11ms/step - loss: 0.0294 - accuracy: 0.9915 - val_loss: 0.0460 - val_accuracy: 0.9830\n",
            "Epoch 10/10\n",
            "96/96 [==============================] - 1s 11ms/step - loss: 0.0289 - accuracy: 0.9912 - val_loss: 0.0376 - val_accuracy: 0.9830\n"
          ]
        }
      ]
    },
    {
      "cell_type": "markdown",
      "source": [
        "# Evaluate the model"
      ],
      "metadata": {
        "id": "n0bvFxrYqd0j"
      }
    },
    {
      "cell_type": "code",
      "source": [
        "test_loss, test_accuracy = model.evaluate(X_test, y_test, verbose=1)\n",
        "print(\"Test Loss:\", test_loss)\n",
        "print(\"Test Accuracy:\", test_accuracy)\n",
        "_, test_accuracy = model.evaluate(X_test, y_test, verbose=0)\n",
        "accuracy_scores.append(test_accuracy)"
      ],
      "metadata": {
        "colab": {
          "base_uri": "https://localhost:8080/",
          "height": 0
        },
        "id": "cDC7jOaEnq1a",
        "outputId": "0abf3903-c257-4a83-f838-b8798a50e115"
      },
      "execution_count": 97,
      "outputs": [
        {
          "output_type": "stream",
          "name": "stdout",
          "text": [
            "24/24 [==============================] - 0s 7ms/step - loss: 0.0376 - accuracy: 0.9830\n",
            "Test Loss: 0.0375683456659317\n",
            "Test Accuracy: 0.9829843044281006\n"
          ]
        }
      ]
    },
    {
      "cell_type": "markdown",
      "source": [
        "# Confusion matrix"
      ],
      "metadata": {
        "id": "-4j2zMFWqg4u"
      }
    },
    {
      "cell_type": "code",
      "source": [
        "\n",
        "y_pred = np.argmax(model.predict(X_test), axis=-1)\n",
        "conf_matrix = confusion_matrix(y_test, y_pred)\n",
        "conf_matrices.append(conf_matrix)"
      ],
      "metadata": {
        "colab": {
          "base_uri": "https://localhost:8080/",
          "height": 0
        },
        "id": "Hq16z4Qnhbbb",
        "outputId": "15147c29-d57d-4e27-dac7-fd9d27a5e5b4"
      },
      "execution_count": 99,
      "outputs": [
        {
          "output_type": "stream",
          "name": "stdout",
          "text": [
            "24/24 [==============================] - 0s 7ms/step\n"
          ]
        }
      ]
    },
    {
      "cell_type": "markdown",
      "source": [
        "# Plot training history"
      ],
      "metadata": {
        "id": "dxR-1BSyqjG0"
      }
    },
    {
      "cell_type": "code",
      "source": [
        "\n",
        "plt.plot(history.history['loss'], label='Training Loss')\n",
        "plt.plot(history.history['val_loss'], label='Validation Loss')\n",
        "plt.title('Training and Validation Loss')\n",
        "plt.xlabel('Epoch')\n",
        "plt.ylabel('Loss')\n",
        "plt.legend()\n",
        "plt.show()\n",
        "plt.plot(history.history['accuracy'], label='Training Accuracy')\n",
        "plt.plot(history.history['val_accuracy'], label='Validation Accuracy')\n",
        "plt.title('Training and Validation Accuracy')\n",
        "plt.xlabel('Epoch')\n",
        "plt.ylabel('Accuracy')\n",
        "plt.legend()\n",
        "plt.show()"
      ],
      "metadata": {
        "colab": {
          "base_uri": "https://localhost:8080/",
          "height": 927
        },
        "id": "5aDcAUkNhbXx",
        "outputId": "1583016c-72d7-42e9-9bde-b9b4de1e30db"
      },
      "execution_count": 100,
      "outputs": [
        {
          "output_type": "display_data",
          "data": {
            "text/plain": [
              "<Figure size 640x480 with 1 Axes>"
            ],
            "image/png": "[encoded data removed]"
          },
          "metadata": {}
        },
        {
          "output_type": "display_data",
          "data": {
            "text/plain": [
              "<Figure size 640x480 with 1 Axes>"
            ],
            "image/png": "[encoded data removed]"
          },
          "metadata": {}
        }
      ]
    },
    {
      "cell_type": "markdown",
      "source": [
        "# Average accuracy across K-Fold splits"
      ],
      "metadata": {
        "id": "EvMbjreSqlhs"
      }
    },
    {
      "cell_type": "code",
      "source": [
        "\n",
        "avg_accuracy = np.mean(accuracy_scores)\n",
        "print(\"Average Accuracy:\", avg_accuracy)"
      ],
      "metadata": {
        "colab": {
          "base_uri": "https://localhost:8080/",
          "height": 0
        },
        "id": "hqZlGX2phbQ8",
        "outputId": "45125f4e-627f-4006-d371-61170262f0af"
      },
      "execution_count": 101,
      "outputs": [
        {
          "output_type": "stream",
          "name": "stdout",
          "text": [
            "Average Accuracy: 0.9829843044281006\n"
          ]
        }
      ]
    },
    {
      "cell_type": "markdown",
      "source": [
        "# Average confusion matrix across K-Fold splits"
      ],
      "metadata": {
        "id": "1-3aG30DqnGC"
      }
    },
    {
      "cell_type": "code",
      "source": [
        "\n",
        "avg_conf_matrix = np.mean(conf_matrices, axis=0)\n",
        "print(\"Average Confusion Matrix:\")\n",
        "print(avg_conf_matrix.astype(int))"
      ],
      "metadata": {
        "colab": {
          "base_uri": "https://localhost:8080/",
          "height": 0
        },
        "id": "wB70ask5hbMb",
        "outputId": "922a92ad-300e-4b0c-aaf9-983ee0fb520c"
      },
      "execution_count": 102,
      "outputs": [
        {
          "output_type": "stream",
          "name": "stdout",
          "text": [
            "Average Confusion Matrix:\n",
            "[[60  0  0  0  0  0  0  0  0  0]\n",
            " [ 0 74  0  0  0  0  0  0  0  0]\n",
            " [ 0  0 76  0  0  0  0  0  1  0]\n",
            " [ 0  0  0 66  0  2  0  0  0  1]\n",
            " [ 0  2  0  0 81  0  1  0  0  2]\n",
            " [ 0  0  0  0  0 71  0  0  0  0]\n",
            " [ 0  0  0  0  1  0 68  0  0  0]\n",
            " [ 0  0  1  0  0  0  0 87  0  0]\n",
            " [ 0  1  0  0  0  0  0  0 80  0]\n",
            " [ 0  1  0  0  0  0  0  0  0 88]]\n"
          ]
        }
      ]
    },
    {
      "cell_type": "code",
      "source": [],
      "metadata": {
        "id": "SbLxYrhJhbGs"
      },
      "execution_count": 102,
      "outputs": []
    },
    {
      "cell_type": "code",
      "source": [],
      "metadata": {
        "id": "RNvLfYUJhbAv"
      },
      "execution_count": 102,
      "outputs": []
    },
    {
      "cell_type": "code",
      "source": [],
      "metadata": {
        "id": "34-XfMuSha4N"
      },
      "execution_count": 102,
      "outputs": []
    }
  ]
}